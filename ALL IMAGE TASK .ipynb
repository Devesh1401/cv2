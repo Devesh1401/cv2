{
 "cells": [
  {
   "cell_type": "code",
   "execution_count": 1,
   "id": "5c9be93d",
   "metadata": {},
   "outputs": [],
   "source": [
    "import cv2"
   ]
  },
  {
   "cell_type": "code",
   "execution_count": 2,
   "id": "bfb46e31",
   "metadata": {},
   "outputs": [],
   "source": [
    "photo = cv2.imread(\"aston-martin.jpg\")"
   ]
  },
  {
   "cell_type": "code",
   "execution_count": 6,
   "id": "06ca9be3",
   "metadata": {},
   "outputs": [],
   "source": [
    "cv2.imshow(\"HI ASTON \" , photo)\n",
    "cv2.waitKey()\n",
    "cv2.destroyAllWindows()"
   ]
  },
  {
   "cell_type": "code",
   "execution_count": 8,
   "id": "3023f913",
   "metadata": {},
   "outputs": [
    {
     "data": {
      "text/plain": [
       "(775, 1379, 3)"
      ]
     },
     "execution_count": 8,
     "metadata": {},
     "output_type": "execute_result"
    }
   ],
   "source": [
    "photo.shape"
   ]
  },
  {
   "cell_type": "code",
   "execution_count": 64,
   "id": "ebe673cb",
   "metadata": {},
   "outputs": [],
   "source": [
    "import numpy"
   ]
  },
  {
   "cell_type": "code",
   "execution_count": 158,
   "id": "d3ea8e04",
   "metadata": {},
   "outputs": [],
   "source": [
    "img = numpy.zeros((775,1379,3))\n",
    "cv2.imshow(\"created image \" , img)\n",
    "cv2.waitKey()\n",
    "cv2.destroyAllWindows()"
   ]
  },
  {
   "cell_type": "code",
   "execution_count": 159,
   "id": "8c50cbff",
   "metadata": {},
   "outputs": [],
   "source": [
    "img[385:390 , 390:990] = (255,255,255)\n",
    "img[88:688 , 685:690]  = (255,255,255)\n",
    "img[88:93 , 690:990]   = (255,255,0)\n",
    "img[683:688 , 390:690] = (255,255,0)\n",
    "img[88:387 , 385:390]  = (255,255,0)\n",
    "img[388:688 , 988:993] = (255,255,0)"
   ]
  },
  {
   "cell_type": "code",
   "execution_count": 160,
   "id": "d0bc1333",
   "metadata": {},
   "outputs": [],
   "source": [
    "cv2.imshow(\"created image \" , img)\n",
    "cv2.waitKey()\n",
    "cv2.destroyAllWindows()"
   ]
  },
  {
   "cell_type": "code",
   "execution_count": 354,
   "id": "45384ae0",
   "metadata": {},
   "outputs": [],
   "source": [
    "photo1 = cv2.imread(\"aston-martin.jpg\")\n",
    "cv2.imshow(\"HI ASTON \" , photo1)\n",
    "cv2.waitKey()\n",
    "cv2.destroyAllWindows()"
   ]
  },
  {
   "cell_type": "code",
   "execution_count": 355,
   "id": "4c30cbc8",
   "metadata": {},
   "outputs": [],
   "source": [
    "photo2 = cv2.imread(\"bentley.jpg\")\n",
    "cv2.imshow(\"HI BENTLEY \" , photo2)\n",
    "cv2.waitKey()\n",
    "cv2.destroyAllWindows()"
   ]
  },
  {
   "cell_type": "code",
   "execution_count": 356,
   "id": "91124c3e",
   "metadata": {},
   "outputs": [],
   "source": [
    "photo1 = cv2.imread(\"aston-martin.jpg\")\n",
    "photo2 = cv2.imread(\"bentley.jpg\")\n",
    "cphoto1 = photo1[512:555 , 1147:1260]\n",
    "photo2[445:488 , 808:921] = cphoto1\n",
    "cv2.imshow(\"HI BENTLEY \" ,photo2)\n",
    "cv2.waitKey()\n",
    "cv2.destroyAllWindows()"
   ]
  },
  {
   "cell_type": "code",
   "execution_count": 357,
   "id": "bfb7820d",
   "metadata": {},
   "outputs": [],
   "source": [
    "photo1 = cv2.imread(\"aston-martin.jpg\")\n",
    "photo2 = cv2.imread(\"bentley.jpg\")\n",
    "cphoto2 = photo2[440:488 , 808:957]\n",
    "photo1[507:555 , 1147:1296] = cphoto2\n",
    "cv2.imshow(\"HI ASTON MARTIN \" ,photo1)\n",
    "cv2.waitKey()\n",
    "cv2.destroyAllWindows()"
   ]
  },
  {
   "cell_type": "code",
   "execution_count": 421,
   "id": "6d103b98",
   "metadata": {},
   "outputs": [],
   "source": [
    "photo1 = cv2.imread(\"rp17.jpg\")\n",
    "cv2.imshow(\"HI RP17 \" , photo1)\n",
    "cv2.waitKey()\n",
    "cv2.destroyAllWindows()"
   ]
  },
  {
   "cell_type": "code",
   "execution_count": 422,
   "id": "05b08ac4",
   "metadata": {},
   "outputs": [],
   "source": [
    "photo2 = cv2.imread(\"wtc.jpg\")\n",
    "cv2.imshow(\"WTC TROPHY \" , photo2)\n",
    "cv2.waitKey()\n",
    "cv2.destroyAllWindows()"
   ]
  },
  {
   "cell_type": "code",
   "execution_count": 423,
   "id": "858c66db",
   "metadata": {},
   "outputs": [],
   "source": [
    "photo2 = cv2.resize(photo2,(784,400))"
   ]
  },
  {
   "cell_type": "code",
   "execution_count": 424,
   "id": "caa10fa8",
   "metadata": {},
   "outputs": [],
   "source": [
    "mix_img = numpy.hstack((photo1,photo2))"
   ]
  },
  {
   "cell_type": "code",
   "execution_count": 425,
   "id": "8af9d9a9",
   "metadata": {},
   "outputs": [],
   "source": [
    "cv2.imshow(\"RP17 with WTC TROPHY \" , mix_img)\n",
    "cv2.waitKey()\n",
    "cv2.destroyAllWindows()"
   ]
  },
  {
   "cell_type": "code",
   "execution_count": null,
   "id": "76672784",
   "metadata": {},
   "outputs": [],
   "source": []
  }
 ],
 "metadata": {
  "kernelspec": {
   "display_name": "Python 3",
   "language": "python",
   "name": "python3"
  },
  "language_info": {
   "codemirror_mode": {
    "name": "ipython",
    "version": 3
   },
   "file_extension": ".py",
   "mimetype": "text/x-python",
   "name": "python",
   "nbconvert_exporter": "python",
   "pygments_lexer": "ipython3",
   "version": "3.8.8"
  }
 },
 "nbformat": 4,
 "nbformat_minor": 5
}
